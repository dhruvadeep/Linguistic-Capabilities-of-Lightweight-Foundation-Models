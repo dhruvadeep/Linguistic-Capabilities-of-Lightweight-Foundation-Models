{
 "cells": [
  {
   "cell_type": "code",
   "execution_count": null,
   "id": "1ace75d6",
   "metadata": {},
   "outputs": [],
   "source": [
    "import torch\n",
    "from transformers import AutoTokenizer, AutoModelForCausalLM\n",
    "from huggingface_hub import login\n",
    "\n",
    "login(token=\"hf_XXXXXXXXXXXXXXXXXXXXXX\")  # Replace with your Hugging Face token"
   ]
  },
  {
   "cell_type": "code",
   "execution_count": null,
   "id": "68d0063e",
   "metadata": {},
   "outputs": [],
   "source": [
    "new_model = \"llama-3-1b-finetuned-ner-tag\"\n",
    "model_id = new_model\n",
    "\n",
    "'''Remember to put the model from huggingface'''\n",
    "tokenizer = AutoTokenizer.from_pretrained(\"meta-llama/Llama-3.2-1B\")\n",
    "model = AutoModelForCausalLM.from_pretrained(\n",
    "    model_id, \n",
    "    torch_dtype=torch.bfloat16, \n",
    "    device_map=\"auto\"\n",
    ")\n",
    "\n",
    "input_text = \"\"\"Please return the NER tags for each word for 'Peter, pass the butter, please'\"\"\"\n",
    "inputs = tokenizer(input_text, return_tensors=\"pt\").to(model.device)\n",
    "\n",
    "\n",
    "with torch.no_grad():\n",
    "    outputs = model.generate(**inputs, max_new_tokens=50)\n",
    "\n",
    "print(tokenizer.decode(outputs[0], skip_special_tokens=True))\n"
   ]
  }
 ],
 "metadata": {
  "language_info": {
   "name": "python"
  }
 },
 "nbformat": 4,
 "nbformat_minor": 5
}
