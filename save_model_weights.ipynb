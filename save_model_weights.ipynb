{
 "cells": [
  {
   "cell_type": "code",
   "execution_count": null,
   "id": "f751bc1a",
   "metadata": {},
   "outputs": [],
   "source": [
    "from transformers import AutoModelForCausalLM, AutoTokenizer, pipeline\n",
    "from peft import PeftModel\n",
    "import torch\n",
    "from trl import setup_chat_format\n",
    "from trl import ChatPromptTemplate, HumanMessagePromptTemplate, SystemMessagePromptTemplate\n",
    "from trl import ChatGenerationMixin, ChatGeneration, ChatModelOutput"
   ]
  },
  {
   "cell_type": "code",
   "execution_count": null,
   "id": "2f135522",
   "metadata": {},
   "outputs": [],
   "source": [
    "from huggingface_hub import login\n",
    "\n",
    "login(token=\"hf_XXXXXXXXXXXXXXXXXXXXXX\")  # Replace with your Hugging Face token\n"
   ]
  },
  {
   "cell_type": "code",
   "execution_count": null,
   "id": "7f8a5074",
   "metadata": {},
   "outputs": [],
   "source": [
    "\"\"\"\n",
    "This script loads a pre-trained Llama-3.2 model, applies a fine-tuned model for NER tagging, and saves the merged model.\n",
    "\n",
    "Note: Use the appropriate model names and paths for your specific use case.\n",
    "like check the name of the folders in the huggingface hub\n",
    "also folder that is created here.\n",
    "\"\"\"\n",
    "base_model = \"meta-llama/Llama-3.2-1B\"\n",
    "new_model = \"llama-3-1b-finetuned-ner-tag\"\n",
    "\n",
    "tokenizer = AutoTokenizer.from_pretrained(base_model)\n",
    "\n",
    "base_model_reload = AutoModelForCausalLM.from_pretrained(\n",
    "        base_model,\n",
    "        return_dict=True,\n",
    "        low_cpu_mem_usage=True,\n",
    "        torch_dtype=torch.float16,\n",
    "        device_map=\"auto\",\n",
    "        trust_remote_code=True,\n",
    ")\n",
    "\n",
    "base_model_reload, tokenizer = setup_chat_format(base_model_reload, tokenizer)\n",
    "\n",
    "model = PeftModel.from_pretrained(base_model_reload, new_model)\n",
    "\n",
    "model = model.merge_and_unload()\n",
    "model.save_pretrained(new_model)\n"
   ]
  }
 ],
 "metadata": {
  "language_info": {
   "name": "python"
  }
 },
 "nbformat": 4,
 "nbformat_minor": 5
}
